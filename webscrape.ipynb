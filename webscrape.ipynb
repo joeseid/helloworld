{
 "cells": [
  {
   "cell_type": "code",
   "execution_count": 2,
   "id": "fcad6ef9-e956-4d1a-81c0-bb49342ba55c",
   "metadata": {},
   "outputs": [],
   "source": [
    "import requests\n",
    "from bs4 import BeautifulSoup"
   ]
  },
  {
   "cell_type": "markdown",
   "id": "b041ca80-2f23-44ea-9e4a-616d9e0c6c76",
   "metadata": {},
   "source": [
    "## Download the HTML\n",
    "\n",
    "Requests allows us to send HTTP rquests.  We'll use request.get() to retrieve a reponse from a server."
   ]
  },
  {
   "cell_type": "code",
   "execution_count": 3,
   "id": "18e61b19-c1a8-416f-bcbe-7bea2778c245",
   "metadata": {},
   "outputs": [],
   "source": [
    "url = 'http://www.fieldexperiments.com/papers/'\n",
    "page = requests.get(url)"
   ]
  },
  {
   "cell_type": "code",
   "execution_count": 4,
   "id": "b0bd3c72-3b8d-4f69-9d53-f97879437ac2",
   "metadata": {},
   "outputs": [],
   "source": [
    "page"
   ]
  },
  {
   "cell_type": "code",
   "execution_count": null,
   "id": "89e9189c-b988-40fe-8fc6-494ac8f58f7d",
   "metadata": {},
   "outputs": [],
   "source": [
    "page.content"
   ]
  },
  {
   "cell_type": "markdown",
   "id": "38b705b5-f44f-484a-b980-154c2c3572c2",
   "metadata": {},
   "source": [
    "## Parse the response content"
   ]
  },
  {
   "cell_type": "code",
   "execution_count": null,
   "id": "6cbd4e0d-3fdf-4183-a1bf-c893ccc6a186",
   "metadata": {},
   "outputs": [],
   "source": [
    "soup = BeautifulSoup(page.content, \"html.parser\")\n",
    "print(soup.prettify())"
   ]
  },
  {
   "cell_type": "markdown",
   "id": "cf21a736-b389-4036-b873-23f54b993618",
   "metadata": {},
   "source": [
    "### Navigating the HTML"
   ]
  },
  {
   "cell_type": "code",
   "execution_count": 8,
   "id": "3dcd274c-eb3b-4308-9999-089210104697",
   "metadata": {},
   "outputs": [],
   "source": [
    "soup.title"
   ]
  },
  {
   "cell_type": "code",
   "execution_count": 9,
   "id": "e6cf7e29-8ec2-4787-94d0-110ba855b367",
   "metadata": {},
   "outputs": [],
   "source": [
    "soup.title.string"
   ]
  },
  {
   "cell_type": "code",
   "execution_count": 10,
   "id": "12df0b12-a7c3-4c12-98e3-0bcec2357aee",
   "metadata": {},
   "outputs": [],
   "source": [
    "soup.title.text"
   ]
  },
  {
   "cell_type": "markdown",
   "id": "a9126853-748c-4587-9eed-145626869e24",
   "metadata": {},
   "source": [
    "We can createa a list of certain types of html tags using find_all, (e.g. 'p', 'a', 'div')"
   ]
  },
  {
   "cell_type": "code",
   "execution_count": null,
   "id": "2ca3c35d-b09e-4e3b-a2eb-05d345d4755a",
   "metadata": {},
   "outputs": [],
   "source": [
    "soup.find_all('a')\n",
    "soup.find_all('div')"
   ]
  },
  {
   "cell_type": "markdown",
   "id": "d45afca0-7af1-4390-89b0-3c911b826d97",
   "metadata": {},
   "source": [
    "### Find element by 'id'"
   ]
  },
  {
   "cell_type": "code",
   "execution_count": null,
   "id": "66371899-0149-44ca-ac11-aaf26e28b290",
   "metadata": {},
   "outputs": [],
   "source": [
    "container = soup.find(id='accordion')\n",
    "container"
   ]
  },
  {
   "cell_type": "markdown",
   "id": "3598dc4e-91ff-43c8-9f3d-43524403d45f",
   "metadata": {},
   "source": [
    "Let's get a list of all the elements with CSS class name 'panel'"
   ]
  },
  {
   "cell_type": "code",
   "execution_count": null,
   "id": "40205f45-adab-4818-a7b5-0015a9e8b2a4",
   "metadata": {},
   "outputs": [],
   "source": [
    "paperList = container.find_all('div', class_='panel')\n",
    "paperList"
   ]
  },
  {
   "cell_type": "code",
   "execution_count": 21,
   "id": "865c7aad-27e9-460c-98a3-535a62f74bf3",
   "metadata": {},
   "outputs": [
    {
     "data": {
      "text/plain": [
       "<div class=\"panel panel-default\">\n",
       "<div class=\"panel-heading\">\n",
       "<h3 class=\"panel-title\">\n",
       "<a href=\"/paper/2775/\">2020: A Summary Of Artefactual Field Experiments On Fieldexperiments.Com: The Who's, What's, Where's, And When's<span class=\"glyphicon glyphicon-link\"></span></a>\n",
       "<meta content=\"2020: A Summary of Artefactual Field Experiments on fieldexperiments.com: The Who's, What's, Where's, and When's\" name=\"citation_title\"/>\n",
       "<meta content=\"List John A\" name=\"citation_author\"/>\n",
       "<meta content=\"2020\" name=\"citation_publication_date\"/>\n",
       "<meta content=\"Working Papers\" name=\"citation_journal_title\"/>\n",
       "<meta content=\"http://s3.amazonaws.com/fieldexperiments-papers2/papers/00721.pdf\" name=\"citation_pdf_url\"/>\n",
       "</h3>\n",
       "</div>\n",
       "<div class=\"panel-body\">\n",
       "<div class=\"row\">\n",
       "<div class=\"col-xs-8\">\n",
       "\t\t\t\t\t\t\t\n",
       "\t\t\t\t\t\t\t\tJohn A List\n",
       "\t\t\t\t\t\t\t\n",
       "\t\t\t\t\t\t\t</div>\n",
       "<div class=\"col-xs-4\">\n",
       "\t\t\t\t\t\t\t\tCited by*:  Downloads*:  <a href=\"http://ideas.repec.org/p/feb/artefa/00721.html\"><img src=\"/static/library/gif/pdficon_small.png\"/></a>\n",
       "</div>\n",
       "</div>\n",
       "<div class=\"row\">\n",
       "<br/>\n",
       "<div class=\"col-xs-12\">\n",
       "\t\t\t\t\t\t\t\n",
       "\t\t\t\t\t\t\t\tLast year I put together a summary of data from my field experiments website that pertained to artefactual field experiments. Several people have asked me if I have and update. In this document I update all figures and numbers to show the details for 2020.  I also include the description from the 2019 paper.<br>\n",
       "</br></div>\n",
       "</div>\n",
       "</div>\n",
       "</div>"
      ]
     },
     "execution_count": 21,
     "metadata": {},
     "output_type": "execute_result"
    }
   ],
   "source": [
    "first = paperList[0]\n",
    "first"
   ]
  },
  {
   "cell_type": "code",
   "execution_count": 26,
   "id": "2e1afb02-a240-46aa-8536-32ee9aae49f8",
   "metadata": {},
   "outputs": [
    {
     "data": {
      "text/plain": [
       "\"2020: A Summary Of Artefactual Field Experiments On Fieldexperiments.Com: The Who's, What's, Where's, And When's\""
      ]
     },
     "execution_count": 26,
     "metadata": {},
     "output_type": "execute_result"
    }
   ],
   "source": [
    "title = first.find('a').text\n",
    "title"
   ]
  },
  {
   "cell_type": "code",
   "execution_count": 25,
   "id": "7da1b7c1-cf0a-46b9-b3e1-5f5a1b537ea9",
   "metadata": {},
   "outputs": [
    {
     "data": {
      "text/plain": [
       "'List John A'"
      ]
     },
     "execution_count": 25,
     "metadata": {},
     "output_type": "execute_result"
    }
   ],
   "source": [
    "authorsList = first.find_all(attrs={'name': 'citation_author'})\n",
    "first_author = authorsList[0]['content']"
   ]
  },
  {
   "cell_type": "code",
   "execution_count": 28,
   "id": "dbe7894a-fecc-4885-8322-f9a9e4f6d249",
   "metadata": {},
   "outputs": [
    {
     "data": {
      "text/plain": [
       "'2020'"
      ]
     },
     "execution_count": 28,
     "metadata": {},
     "output_type": "execute_result"
    }
   ],
   "source": [
    "yearMeta = first.find(attrs={'name': 'citation_publication_date'})\n",
    "year = yearMeta['content']\n",
    "year"
   ]
  },
  {
   "cell_type": "code",
   "execution_count": 29,
   "id": "13228df9-5539-4cc9-b012-00e26e4123ac",
   "metadata": {},
   "outputs": [
    {
     "data": {
      "text/plain": [
       "[{'title': \"2020: A Summary Of Artefactual Field Experiments On Fieldexperiments.Com: The Who's, What's, Where's, And When's\",\n",
       "  'first_author': 'List John A',\n",
       "  'year': '2020'},\n",
       " {'title': \"2020: A Summary Of Framed Field Experiments On Fieldexperiments.Com: The Who's, What's Where's, And When's\",\n",
       "  'first_author': 'List John A',\n",
       "  'year': '2020'},\n",
       " {'title': '2020 Summary Data Of Natural Field Experiments Published On Fieldexperiments.Com',\n",
       "  'first_author': 'List John A',\n",
       "  'year': '2020'},\n",
       " {'title': '2021 Summary Data Of Artefactual Field Experiments Published On Fieldexperiments.Com',\n",
       "  'first_author': 'List John A',\n",
       "  'year': '2022'},\n",
       " {'title': '2021 Summary Data Of Natural Field Experiments Published On Fieldexperiments.Com',\n",
       "  'first_author': 'List John A',\n",
       "  'year': ''},\n",
       " {'title': 'Academic Economists Behaving Badly? A Survey On Three Areas Of Unethical Behavior',\n",
       "  'first_author': 'Bailey Charles ',\n",
       "  'year': '2001'},\n",
       " {'title': 'Achievement Awards For High School Matriculation: Evidence From Randomized Trials',\n",
       "  'first_author': 'Angrist Joshua D',\n",
       "  'year': '2003'},\n",
       " {'title': 'Actions And Beliefs: Estimating Distribution-Based Preferences Using A Large Scale Experiment With Probability Questions On Expectations',\n",
       "  'first_author': 'Bellemare Charles ',\n",
       "  'year': '2005'},\n",
       " {'title': 'Active Decisions And Pro-Social Behavior: A Field Experiment On Blood Donation',\n",
       "  'first_author': 'Goette Lorenz ',\n",
       "  'year': '2007'},\n",
       " {'title': 'A Dollar For Your Thoughts: Feedback-Conditional Rebates On Ebay',\n",
       "  'first_author': 'Cabral Luis ',\n",
       "  'year': '2015'}]"
      ]
     },
     "execution_count": 29,
     "metadata": {},
     "output_type": "execute_result"
    }
   ],
   "source": [
    "d = []\n",
    "for paper in paperList:\n",
    "    title = paper.find('a').text\n",
    "    \n",
    "    authorsList = paper.find_all(attrs={'name': 'citation_author'})\n",
    "    first_author = authorsList[0]['content']\n",
    "    \n",
    "    yearMeta = paper.find(attrs={'name': 'citation_publication_date'})\n",
    "    year = yearMeta['content']\n",
    "    \n",
    "    tempDict = dict(\n",
    "        title=title,\n",
    "        first_author=first_author,\n",
    "        year=year\n",
    "    )\n",
    "    \n",
    "    # tempDict = {\n",
    "    #     'title': title,\n",
    "    #     'first_author': first_author,\n",
    "    #     'year': year\n",
    "    # }\n",
    "    \n",
    "    d.append(tempDict)\n",
    "    \n",
    "d\n",
    "    "
   ]
  },
  {
   "cell_type": "markdown",
   "id": "51a7e22c-324b-41e3-bb64-8e8f42f89548",
   "metadata": {},
   "source": [
    "## Export to CSV"
   ]
  },
  {
   "cell_type": "code",
   "execution_count": 30,
   "id": "2e4cd486-85dd-4d2e-b497-4b4dcadc059b",
   "metadata": {},
   "outputs": [
    {
     "data": {
      "text/html": [
       "<div>\n",
       "<style scoped>\n",
       "    .dataframe tbody tr th:only-of-type {\n",
       "        vertical-align: middle;\n",
       "    }\n",
       "\n",
       "    .dataframe tbody tr th {\n",
       "        vertical-align: top;\n",
       "    }\n",
       "\n",
       "    .dataframe thead th {\n",
       "        text-align: right;\n",
       "    }\n",
       "</style>\n",
       "<table border=\"1\" class=\"dataframe\">\n",
       "  <thead>\n",
       "    <tr style=\"text-align: right;\">\n",
       "      <th></th>\n",
       "      <th>title</th>\n",
       "      <th>first_author</th>\n",
       "      <th>year</th>\n",
       "    </tr>\n",
       "  </thead>\n",
       "  <tbody>\n",
       "    <tr>\n",
       "      <th>0</th>\n",
       "      <td>2020: A Summary Of Artefactual Field Experimen...</td>\n",
       "      <td>List John A</td>\n",
       "      <td>2020</td>\n",
       "    </tr>\n",
       "    <tr>\n",
       "      <th>1</th>\n",
       "      <td>2020: A Summary Of Framed Field Experiments On...</td>\n",
       "      <td>List John A</td>\n",
       "      <td>2020</td>\n",
       "    </tr>\n",
       "    <tr>\n",
       "      <th>2</th>\n",
       "      <td>2020 Summary Data Of Natural Field Experiments...</td>\n",
       "      <td>List John A</td>\n",
       "      <td>2020</td>\n",
       "    </tr>\n",
       "    <tr>\n",
       "      <th>3</th>\n",
       "      <td>2021 Summary Data Of Artefactual Field Experim...</td>\n",
       "      <td>List John A</td>\n",
       "      <td>2022</td>\n",
       "    </tr>\n",
       "    <tr>\n",
       "      <th>4</th>\n",
       "      <td>2021 Summary Data Of Natural Field Experiments...</td>\n",
       "      <td>List John A</td>\n",
       "      <td></td>\n",
       "    </tr>\n",
       "    <tr>\n",
       "      <th>5</th>\n",
       "      <td>Academic Economists Behaving Badly? A Survey O...</td>\n",
       "      <td>Bailey Charles</td>\n",
       "      <td>2001</td>\n",
       "    </tr>\n",
       "    <tr>\n",
       "      <th>6</th>\n",
       "      <td>Achievement Awards For High School Matriculati...</td>\n",
       "      <td>Angrist Joshua D</td>\n",
       "      <td>2003</td>\n",
       "    </tr>\n",
       "    <tr>\n",
       "      <th>7</th>\n",
       "      <td>Actions And Beliefs: Estimating Distribution-B...</td>\n",
       "      <td>Bellemare Charles</td>\n",
       "      <td>2005</td>\n",
       "    </tr>\n",
       "    <tr>\n",
       "      <th>8</th>\n",
       "      <td>Active Decisions And Pro-Social Behavior: A Fi...</td>\n",
       "      <td>Goette Lorenz</td>\n",
       "      <td>2007</td>\n",
       "    </tr>\n",
       "    <tr>\n",
       "      <th>9</th>\n",
       "      <td>A Dollar For Your Thoughts: Feedback-Condition...</td>\n",
       "      <td>Cabral Luis</td>\n",
       "      <td>2015</td>\n",
       "    </tr>\n",
       "  </tbody>\n",
       "</table>\n",
       "</div>"
      ],
      "text/plain": [
       "                                               title        first_author  year\n",
       "0  2020: A Summary Of Artefactual Field Experimen...         List John A  2020\n",
       "1  2020: A Summary Of Framed Field Experiments On...         List John A  2020\n",
       "2  2020 Summary Data Of Natural Field Experiments...         List John A  2020\n",
       "3  2021 Summary Data Of Artefactual Field Experim...         List John A  2022\n",
       "4  2021 Summary Data Of Natural Field Experiments...         List John A      \n",
       "5  Academic Economists Behaving Badly? A Survey O...     Bailey Charles   2001\n",
       "6  Achievement Awards For High School Matriculati...    Angrist Joshua D  2003\n",
       "7  Actions And Beliefs: Estimating Distribution-B...  Bellemare Charles   2005\n",
       "8  Active Decisions And Pro-Social Behavior: A Fi...      Goette Lorenz   2007\n",
       "9  A Dollar For Your Thoughts: Feedback-Condition...        Cabral Luis   2015"
      ]
     },
     "execution_count": 30,
     "metadata": {},
     "output_type": "execute_result"
    }
   ],
   "source": [
    "import pandas as pd\n",
    "\n",
    "df = pd.DataFrame(d)\n",
    "df"
   ]
  },
  {
   "cell_type": "code",
   "execution_count": 31,
   "id": "a4109202-b020-4db9-b0b2-5ffbba744799",
   "metadata": {},
   "outputs": [],
   "source": [
    "import os\n",
    "\n",
    "csvFilePath = os.path.join(os.getcwd(), 'fe_scrape.csv')\n",
    "df.to_csv(csvFilePath, index=False)"
   ]
  },
  {
   "cell_type": "code",
   "execution_count": 32,
   "id": "edb92327-6043-4a00-ae5c-2223ba8aa37b",
   "metadata": {},
   "outputs": [
    {
     "name": "stdout",
     "output_type": "stream",
     "text": [
      "http://www.fieldexperiments.com/papers/?page=1\n",
      "http://www.fieldexperiments.com/papers/?page=2\n",
      "http://www.fieldexperiments.com/papers/?page=3\n",
      "http://www.fieldexperiments.com/papers/?page=4\n",
      "http://www.fieldexperiments.com/papers/?page=5\n",
      "http://www.fieldexperiments.com/papers/?page=6\n",
      "http://www.fieldexperiments.com/papers/?page=7\n",
      "http://www.fieldexperiments.com/papers/?page=8\n",
      "http://www.fieldexperiments.com/papers/?page=9\n",
      "http://www.fieldexperiments.com/papers/?page=10\n",
      "http://www.fieldexperiments.com/papers/?page=11\n",
      "http://www.fieldexperiments.com/papers/?page=12\n",
      "http://www.fieldexperiments.com/papers/?page=13\n",
      "http://www.fieldexperiments.com/papers/?page=14\n",
      "http://www.fieldexperiments.com/papers/?page=15\n",
      "http://www.fieldexperiments.com/papers/?page=16\n",
      "http://www.fieldexperiments.com/papers/?page=17\n",
      "http://www.fieldexperiments.com/papers/?page=18\n",
      "http://www.fieldexperiments.com/papers/?page=19\n",
      "http://www.fieldexperiments.com/papers/?page=20\n",
      "http://www.fieldexperiments.com/papers/?page=21\n",
      "http://www.fieldexperiments.com/papers/?page=22\n",
      "http://www.fieldexperiments.com/papers/?page=23\n",
      "http://www.fieldexperiments.com/papers/?page=24\n",
      "http://www.fieldexperiments.com/papers/?page=25\n",
      "http://www.fieldexperiments.com/papers/?page=26\n",
      "http://www.fieldexperiments.com/papers/?page=27\n",
      "http://www.fieldexperiments.com/papers/?page=28\n",
      "http://www.fieldexperiments.com/papers/?page=29\n",
      "http://www.fieldexperiments.com/papers/?page=30\n",
      "http://www.fieldexperiments.com/papers/?page=31\n",
      "http://www.fieldexperiments.com/papers/?page=32\n",
      "http://www.fieldexperiments.com/papers/?page=33\n",
      "http://www.fieldexperiments.com/papers/?page=34\n",
      "http://www.fieldexperiments.com/papers/?page=35\n",
      "http://www.fieldexperiments.com/papers/?page=36\n",
      "http://www.fieldexperiments.com/papers/?page=37\n",
      "http://www.fieldexperiments.com/papers/?page=38\n",
      "http://www.fieldexperiments.com/papers/?page=39\n",
      "http://www.fieldexperiments.com/papers/?page=40\n",
      "http://www.fieldexperiments.com/papers/?page=41\n",
      "http://www.fieldexperiments.com/papers/?page=42\n",
      "http://www.fieldexperiments.com/papers/?page=43\n",
      "http://www.fieldexperiments.com/papers/?page=44\n",
      "http://www.fieldexperiments.com/papers/?page=45\n",
      "http://www.fieldexperiments.com/papers/?page=46\n",
      "http://www.fieldexperiments.com/papers/?page=47\n",
      "http://www.fieldexperiments.com/papers/?page=48\n",
      "http://www.fieldexperiments.com/papers/?page=49\n",
      "http://www.fieldexperiments.com/papers/?page=50\n",
      "http://www.fieldexperiments.com/papers/?page=51\n",
      "http://www.fieldexperiments.com/papers/?page=52\n",
      "http://www.fieldexperiments.com/papers/?page=53\n",
      "http://www.fieldexperiments.com/papers/?page=54\n",
      "http://www.fieldexperiments.com/papers/?page=55\n",
      "http://www.fieldexperiments.com/papers/?page=56\n",
      "http://www.fieldexperiments.com/papers/?page=57\n",
      "http://www.fieldexperiments.com/papers/?page=58\n",
      "http://www.fieldexperiments.com/papers/?page=59\n",
      "http://www.fieldexperiments.com/papers/?page=60\n",
      "http://www.fieldexperiments.com/papers/?page=61\n",
      "http://www.fieldexperiments.com/papers/?page=62\n",
      "http://www.fieldexperiments.com/papers/?page=63\n",
      "http://www.fieldexperiments.com/papers/?page=64\n",
      "http://www.fieldexperiments.com/papers/?page=65\n",
      "http://www.fieldexperiments.com/papers/?page=66\n",
      "http://www.fieldexperiments.com/papers/?page=67\n",
      "http://www.fieldexperiments.com/papers/?page=68\n",
      "http://www.fieldexperiments.com/papers/?page=69\n",
      "http://www.fieldexperiments.com/papers/?page=70\n"
     ]
    }
   ],
   "source": [
    "d = []\n",
    "for i in range(1, 71):\n",
    "    url = f'http://www.fieldexperiments.com/papers/?page={i}'\n",
    "    print(url)\n",
    "    \n",
    "    ## run all the code to parse the html further\n",
    "    \n",
    "    d.append(tempDict)\n",
    "    \n",
    "## create dataframe and export to csv\n"
   ]
  },
  {
   "cell_type": "code",
   "execution_count": null,
   "id": "7e16409a-89d5-4372-a7d8-a617ca49c6c2",
   "metadata": {},
   "outputs": [],
   "source": []
  }
 ],
 "metadata": {
  "kernelspec": {
   "display_name": "Python 3 (ipykernel)",
   "language": "python",
   "name": "python3"
  },
  "language_info": {
   "codemirror_mode": {
    "name": "ipython",
    "version": 3
   },
   "file_extension": ".py",
   "mimetype": "text/x-python",
   "name": "python",
   "nbconvert_exporter": "python",
   "pygments_lexer": "ipython3",
   "version": "3.8.11"
  }
 },
 "nbformat": 4,
 "nbformat_minor": 5
}
