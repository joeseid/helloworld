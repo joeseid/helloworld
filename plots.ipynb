{
 "cells": [
  {
   "cell_type": "code",
   "execution_count": 1,
   "id": "e2881f14-913f-435e-8269-6b45ae8295f2",
   "metadata": {},
   "outputs": [],
   "source": [
    "import os\n",
    "import pandas as pd\n",
    "import numpy as np\n",
    "import matplotlib.pyplot as plt\n",
    "%matplotlib inline"
   ]
  },
  {
   "cell_type": "markdown",
   "id": "8a84bfb8-1a20-4d3b-adad-0a6749ce1003",
   "metadata": {},
   "source": [
    "To enable inline plots Jupyter notebooks, we need to use %matplotlib magic command. "
   ]
  },
  {
   "cell_type": "markdown",
   "id": "8e0ae08f-b13c-4e6e-bb41-37c5c3af50b7",
   "metadata": {},
   "source": [
    "## Read csv from URL"
   ]
  },
  {
   "cell_type": "code",
   "execution_count": 2,
   "id": "b6ffbcfc-839b-4dec-a89d-067060396b65",
   "metadata": {},
   "outputs": [],
   "source": [
    "csvUrl = 'https://raw.githubusercontent.com/seidelj/python-course/main/week9/prices.csv'\n",
    "df = pd.read_csv(csvUrl)"
   ]
  },
  {
   "cell_type": "code",
   "execution_count": 3,
   "id": "ba73b52b-1c50-461a-be06-d2e3347d61d2",
   "metadata": {},
   "outputs": [
    {
     "data": {
      "text/html": [
       "<div>\n",
       "<style scoped>\n",
       "    .dataframe tbody tr th:only-of-type {\n",
       "        vertical-align: middle;\n",
       "    }\n",
       "\n",
       "    .dataframe tbody tr th {\n",
       "        vertical-align: top;\n",
       "    }\n",
       "\n",
       "    .dataframe thead th {\n",
       "        text-align: right;\n",
       "    }\n",
       "</style>\n",
       "<table border=\"1\" class=\"dataframe\">\n",
       "  <thead>\n",
       "    <tr style=\"text-align: right;\">\n",
       "      <th></th>\n",
       "      <th>period</th>\n",
       "      <th>price</th>\n",
       "      <th>session</th>\n",
       "      <th>market</th>\n",
       "      <th>fv</th>\n",
       "      <th>rd</th>\n",
       "    </tr>\n",
       "  </thead>\n",
       "  <tbody>\n",
       "    <tr>\n",
       "      <th>0</th>\n",
       "      <td>1</td>\n",
       "      <td>214</td>\n",
       "      <td>online1</td>\n",
       "      <td>1</td>\n",
       "      <td>240</td>\n",
       "      <td>0.729545</td>\n",
       "    </tr>\n",
       "    <tr>\n",
       "      <th>1</th>\n",
       "      <td>2</td>\n",
       "      <td>164</td>\n",
       "      <td>online1</td>\n",
       "      <td>1</td>\n",
       "      <td>216</td>\n",
       "      <td>0.729545</td>\n",
       "    </tr>\n",
       "    <tr>\n",
       "      <th>2</th>\n",
       "      <td>3</td>\n",
       "      <td>161</td>\n",
       "      <td>online1</td>\n",
       "      <td>1</td>\n",
       "      <td>192</td>\n",
       "      <td>0.729545</td>\n",
       "    </tr>\n",
       "    <tr>\n",
       "      <th>3</th>\n",
       "      <td>4</td>\n",
       "      <td>187</td>\n",
       "      <td>online1</td>\n",
       "      <td>1</td>\n",
       "      <td>168</td>\n",
       "      <td>0.729545</td>\n",
       "    </tr>\n",
       "    <tr>\n",
       "      <th>4</th>\n",
       "      <td>5</td>\n",
       "      <td>289</td>\n",
       "      <td>online1</td>\n",
       "      <td>1</td>\n",
       "      <td>144</td>\n",
       "      <td>0.729545</td>\n",
       "    </tr>\n",
       "    <tr>\n",
       "      <th>...</th>\n",
       "      <td>...</td>\n",
       "      <td>...</td>\n",
       "      <td>...</td>\n",
       "      <td>...</td>\n",
       "      <td>...</td>\n",
       "      <td>...</td>\n",
       "    </tr>\n",
       "    <tr>\n",
       "      <th>195</th>\n",
       "      <td>6</td>\n",
       "      <td>806</td>\n",
       "      <td>online9</td>\n",
       "      <td>2</td>\n",
       "      <td>120</td>\n",
       "      <td>3.403788</td>\n",
       "    </tr>\n",
       "    <tr>\n",
       "      <th>196</th>\n",
       "      <td>7</td>\n",
       "      <td>393</td>\n",
       "      <td>online9</td>\n",
       "      <td>2</td>\n",
       "      <td>96</td>\n",
       "      <td>3.403788</td>\n",
       "    </tr>\n",
       "    <tr>\n",
       "      <th>197</th>\n",
       "      <td>8</td>\n",
       "      <td>388</td>\n",
       "      <td>online9</td>\n",
       "      <td>2</td>\n",
       "      <td>72</td>\n",
       "      <td>3.403788</td>\n",
       "    </tr>\n",
       "    <tr>\n",
       "      <th>198</th>\n",
       "      <td>9</td>\n",
       "      <td>196</td>\n",
       "      <td>online9</td>\n",
       "      <td>2</td>\n",
       "      <td>48</td>\n",
       "      <td>3.403788</td>\n",
       "    </tr>\n",
       "    <tr>\n",
       "      <th>199</th>\n",
       "      <td>10</td>\n",
       "      <td>429</td>\n",
       "      <td>online9</td>\n",
       "      <td>2</td>\n",
       "      <td>24</td>\n",
       "      <td>3.403788</td>\n",
       "    </tr>\n",
       "  </tbody>\n",
       "</table>\n",
       "<p>200 rows × 6 columns</p>\n",
       "</div>"
      ],
      "text/plain": [
       "     period  price  session  market   fv        rd\n",
       "0         1    214  online1       1  240  0.729545\n",
       "1         2    164  online1       1  216  0.729545\n",
       "2         3    161  online1       1  192  0.729545\n",
       "3         4    187  online1       1  168  0.729545\n",
       "4         5    289  online1       1  144  0.729545\n",
       "..      ...    ...      ...     ...  ...       ...\n",
       "195       6    806  online9       2  120  3.403788\n",
       "196       7    393  online9       2   96  3.403788\n",
       "197       8    388  online9       2   72  3.403788\n",
       "198       9    196  online9       2   48  3.403788\n",
       "199      10    429  online9       2   24  3.403788\n",
       "\n",
       "[200 rows x 6 columns]"
      ]
     },
     "execution_count": 3,
     "metadata": {},
     "output_type": "execute_result"
    }
   ],
   "source": [
    "df"
   ]
  },
  {
   "cell_type": "markdown",
   "id": "b776783b-cf45-4f83-963e-8d3635b65e3a",
   "metadata": {},
   "source": [
    "### Select a subset of the data"
   ]
  },
  {
   "cell_type": "code",
   "execution_count": 4,
   "id": "ae4bc311-1df0-493e-b690-412530c92e6c",
   "metadata": {},
   "outputs": [
    {
     "data": {
      "text/html": [
       "<div>\n",
       "<style scoped>\n",
       "    .dataframe tbody tr th:only-of-type {\n",
       "        vertical-align: middle;\n",
       "    }\n",
       "\n",
       "    .dataframe tbody tr th {\n",
       "        vertical-align: top;\n",
       "    }\n",
       "\n",
       "    .dataframe thead th {\n",
       "        text-align: right;\n",
       "    }\n",
       "</style>\n",
       "<table border=\"1\" class=\"dataframe\">\n",
       "  <thead>\n",
       "    <tr style=\"text-align: right;\">\n",
       "      <th></th>\n",
       "      <th>period</th>\n",
       "      <th>price</th>\n",
       "      <th>session</th>\n",
       "      <th>market</th>\n",
       "      <th>fv</th>\n",
       "      <th>rd</th>\n",
       "    </tr>\n",
       "  </thead>\n",
       "  <tbody>\n",
       "    <tr>\n",
       "      <th>0</th>\n",
       "      <td>1</td>\n",
       "      <td>214</td>\n",
       "      <td>online1</td>\n",
       "      <td>1</td>\n",
       "      <td>240</td>\n",
       "      <td>0.729545</td>\n",
       "    </tr>\n",
       "    <tr>\n",
       "      <th>1</th>\n",
       "      <td>2</td>\n",
       "      <td>164</td>\n",
       "      <td>online1</td>\n",
       "      <td>1</td>\n",
       "      <td>216</td>\n",
       "      <td>0.729545</td>\n",
       "    </tr>\n",
       "    <tr>\n",
       "      <th>2</th>\n",
       "      <td>3</td>\n",
       "      <td>161</td>\n",
       "      <td>online1</td>\n",
       "      <td>1</td>\n",
       "      <td>192</td>\n",
       "      <td>0.729545</td>\n",
       "    </tr>\n",
       "    <tr>\n",
       "      <th>3</th>\n",
       "      <td>4</td>\n",
       "      <td>187</td>\n",
       "      <td>online1</td>\n",
       "      <td>1</td>\n",
       "      <td>168</td>\n",
       "      <td>0.729545</td>\n",
       "    </tr>\n",
       "    <tr>\n",
       "      <th>4</th>\n",
       "      <td>5</td>\n",
       "      <td>289</td>\n",
       "      <td>online1</td>\n",
       "      <td>1</td>\n",
       "      <td>144</td>\n",
       "      <td>0.729545</td>\n",
       "    </tr>\n",
       "    <tr>\n",
       "      <th>5</th>\n",
       "      <td>6</td>\n",
       "      <td>331</td>\n",
       "      <td>online1</td>\n",
       "      <td>1</td>\n",
       "      <td>120</td>\n",
       "      <td>0.729545</td>\n",
       "    </tr>\n",
       "    <tr>\n",
       "      <th>6</th>\n",
       "      <td>7</td>\n",
       "      <td>379</td>\n",
       "      <td>online1</td>\n",
       "      <td>1</td>\n",
       "      <td>96</td>\n",
       "      <td>0.729545</td>\n",
       "    </tr>\n",
       "    <tr>\n",
       "      <th>7</th>\n",
       "      <td>8</td>\n",
       "      <td>213</td>\n",
       "      <td>online1</td>\n",
       "      <td>1</td>\n",
       "      <td>72</td>\n",
       "      <td>0.729545</td>\n",
       "    </tr>\n",
       "    <tr>\n",
       "      <th>8</th>\n",
       "      <td>9</td>\n",
       "      <td>59</td>\n",
       "      <td>online1</td>\n",
       "      <td>1</td>\n",
       "      <td>48</td>\n",
       "      <td>0.729545</td>\n",
       "    </tr>\n",
       "    <tr>\n",
       "      <th>9</th>\n",
       "      <td>10</td>\n",
       "      <td>68</td>\n",
       "      <td>online1</td>\n",
       "      <td>1</td>\n",
       "      <td>24</td>\n",
       "      <td>0.729545</td>\n",
       "    </tr>\n",
       "  </tbody>\n",
       "</table>\n",
       "</div>"
      ],
      "text/plain": [
       "   period  price  session  market   fv        rd\n",
       "0       1    214  online1       1  240  0.729545\n",
       "1       2    164  online1       1  216  0.729545\n",
       "2       3    161  online1       1  192  0.729545\n",
       "3       4    187  online1       1  168  0.729545\n",
       "4       5    289  online1       1  144  0.729545\n",
       "5       6    331  online1       1  120  0.729545\n",
       "6       7    379  online1       1   96  0.729545\n",
       "7       8    213  online1       1   72  0.729545\n",
       "8       9     59  online1       1   48  0.729545\n",
       "9      10     68  online1       1   24  0.729545"
      ]
     },
     "execution_count": 4,
     "metadata": {},
     "output_type": "execute_result"
    }
   ],
   "source": [
    "m1 = df[(df['session'] == 'online1') & (df['market'] == 1)]\n",
    "m1"
   ]
  },
  {
   "cell_type": "markdown",
   "id": "08bd7ba1-b5ae-4690-aa20-74c7e3dd09ba",
   "metadata": {},
   "source": [
    "### A simple plot"
   ]
  },
  {
   "cell_type": "code",
   "execution_count": 5,
   "id": "f7ef0351-b6cf-4807-a800-736e31d4c487",
   "metadata": {},
   "outputs": [
    {
     "data": {
      "image/png": "[encoded data removed]",
      "text/plain": [
       "<Figure size 432x288 with 1 Axes>"
      ]
     },
     "metadata": {
      "needs_background": "light"
     },
     "output_type": "display_data"
    }
   ],
   "source": [
    "fig, ax = plt.subplots()\n",
    "ax.plot(m1['period'], m1['price']);\n",
    "\n",
    "ax.set_xlabel('Trading Period');\n",
    "ax.set_ylabel('Price');"
   ]
  },
  {
   "cell_type": "markdown",
   "id": "dce1905c-0e63-4321-b838-d0418be45c19",
   "metadata": {},
   "source": [
    "### Plotting Multiple Relationships in the same figure"
   ]
  },
  {
   "cell_type": "code",
   "execution_count": 6,
   "id": "95b18980-f683-449e-9b67-500b840385bb",
   "metadata": {},
   "outputs": [
    {
     "data": {
      "image/png": "[encoded data removed]",
      "text/plain": [
       "<Figure size 432x288 with 1 Axes>"
      ]
     },
     "metadata": {
      "needs_background": "light"
     },
     "output_type": "display_data"
    }
   ],
   "source": [
    "fig, ax = plt.subplots()\n",
    "ax.plot(m1['period'], m1['price'], label='online1');\n",
    "ax.plot(m1['period'], m1['fv'], label='fv', linestyle='--', color='gray');\n",
    "\n",
    "ax.set_xlabel(\"Trading Period\");\n",
    "ax.set_ylabel(\"Price\");\n",
    "\n",
    "ax.legend(loc=\"upper right\");\n",
    "ax.set_title(\"Market 1\");\n",
    "\n",
    "plt.savefig('online1.png')\n"
   ]
  },
  {
   "cell_type": "markdown",
   "id": "85b9854c-ed5b-4d5a-a685-61079e8620d4",
   "metadata": {},
   "source": [
    "### Multiple Subplots"
   ]
  },
  {
   "cell_type": "code",
   "execution_count": 7,
   "id": "52bf161f-0294-4109-9a86-52812be29191",
   "metadata": {},
   "outputs": [
    {
     "data": {
      "text/html": [
       "<div>\n",
       "<style scoped>\n",
       "    .dataframe tbody tr th:only-of-type {\n",
       "        vertical-align: middle;\n",
       "    }\n",
       "\n",
       "    .dataframe tbody tr th {\n",
       "        vertical-align: top;\n",
       "    }\n",
       "\n",
       "    .dataframe thead th {\n",
       "        text-align: right;\n",
       "    }\n",
       "</style>\n",
       "<table border=\"1\" class=\"dataframe\">\n",
       "  <thead>\n",
       "    <tr style=\"text-align: right;\">\n",
       "      <th></th>\n",
       "      <th>period</th>\n",
       "      <th>price</th>\n",
       "      <th>session</th>\n",
       "      <th>market</th>\n",
       "      <th>fv</th>\n",
       "      <th>rd</th>\n",
       "    </tr>\n",
       "  </thead>\n",
       "  <tbody>\n",
       "    <tr>\n",
       "      <th>10</th>\n",
       "      <td>1</td>\n",
       "      <td>496</td>\n",
       "      <td>online1</td>\n",
       "      <td>2</td>\n",
       "      <td>240</td>\n",
       "      <td>1.424242</td>\n",
       "    </tr>\n",
       "    <tr>\n",
       "      <th>11</th>\n",
       "      <td>2</td>\n",
       "      <td>501</td>\n",
       "      <td>online1</td>\n",
       "      <td>2</td>\n",
       "      <td>216</td>\n",
       "      <td>1.424242</td>\n",
       "    </tr>\n",
       "    <tr>\n",
       "      <th>12</th>\n",
       "      <td>3</td>\n",
       "      <td>523</td>\n",
       "      <td>online1</td>\n",
       "      <td>2</td>\n",
       "      <td>192</td>\n",
       "      <td>1.424242</td>\n",
       "    </tr>\n",
       "    <tr>\n",
       "      <th>13</th>\n",
       "      <td>4</td>\n",
       "      <td>288</td>\n",
       "      <td>online1</td>\n",
       "      <td>2</td>\n",
       "      <td>168</td>\n",
       "      <td>1.424242</td>\n",
       "    </tr>\n",
       "    <tr>\n",
       "      <th>14</th>\n",
       "      <td>5</td>\n",
       "      <td>335</td>\n",
       "      <td>online1</td>\n",
       "      <td>2</td>\n",
       "      <td>144</td>\n",
       "      <td>1.424242</td>\n",
       "    </tr>\n",
       "    <tr>\n",
       "      <th>15</th>\n",
       "      <td>6</td>\n",
       "      <td>303</td>\n",
       "      <td>online1</td>\n",
       "      <td>2</td>\n",
       "      <td>120</td>\n",
       "      <td>1.424242</td>\n",
       "    </tr>\n",
       "    <tr>\n",
       "      <th>16</th>\n",
       "      <td>7</td>\n",
       "      <td>311</td>\n",
       "      <td>online1</td>\n",
       "      <td>2</td>\n",
       "      <td>96</td>\n",
       "      <td>1.424242</td>\n",
       "    </tr>\n",
       "    <tr>\n",
       "      <th>17</th>\n",
       "      <td>8</td>\n",
       "      <td>150</td>\n",
       "      <td>online1</td>\n",
       "      <td>2</td>\n",
       "      <td>72</td>\n",
       "      <td>1.424242</td>\n",
       "    </tr>\n",
       "    <tr>\n",
       "      <th>18</th>\n",
       "      <td>9</td>\n",
       "      <td>192</td>\n",
       "      <td>online1</td>\n",
       "      <td>2</td>\n",
       "      <td>48</td>\n",
       "      <td>1.424242</td>\n",
       "    </tr>\n",
       "    <tr>\n",
       "      <th>19</th>\n",
       "      <td>10</td>\n",
       "      <td>101</td>\n",
       "      <td>online1</td>\n",
       "      <td>2</td>\n",
       "      <td>24</td>\n",
       "      <td>1.424242</td>\n",
       "    </tr>\n",
       "  </tbody>\n",
       "</table>\n",
       "</div>"
      ],
      "text/plain": [
       "    period  price  session  market   fv        rd\n",
       "10       1    496  online1       2  240  1.424242\n",
       "11       2    501  online1       2  216  1.424242\n",
       "12       3    523  online1       2  192  1.424242\n",
       "13       4    288  online1       2  168  1.424242\n",
       "14       5    335  online1       2  144  1.424242\n",
       "15       6    303  online1       2  120  1.424242\n",
       "16       7    311  online1       2   96  1.424242\n",
       "17       8    150  online1       2   72  1.424242\n",
       "18       9    192  online1       2   48  1.424242\n",
       "19      10    101  online1       2   24  1.424242"
      ]
     },
     "execution_count": 7,
     "metadata": {},
     "output_type": "execute_result"
    }
   ],
   "source": [
    "m2 = df[(df['session'] == 'online1') & (df['market'] == 2)]\n",
    "m2"
   ]
  },
  {
   "cell_type": "code",
   "execution_count": 8,
   "id": "94190c56-58db-4af6-8ea8-77a0b27db167",
   "metadata": {},
   "outputs": [
    {
     "data": {
      "image/png": "[encoded data removed]",
      "text/plain": [
       "<Figure size 432x288 with 2 Axes>"
      ]
     },
     "metadata": {
      "needs_background": "light"
     },
     "output_type": "display_data"
    }
   ],
   "source": [
    "fig, ax = plt.subplots(nrows=2, ncols=1, sharey=True, sharex=True)\n",
    "ax[0].plot(m1['period'], m1['price']);\n",
    "ax[1].plot(m2['period'], m2['price']);\n",
    "\n",
    "fig.supxlabel(\"Trading Period\");\n",
    "fig.supylabel(\"Price\");\n",
    "\n",
    "ax[0].set_title(\"First Market\");\n",
    "ax[1].set_title(\"Second Market\");\n",
    "plt.savefig('twomarkets.png')"
   ]
  },
  {
   "cell_type": "code",
   "execution_count": 9,
   "id": "eb615730-cab5-4215-b895-ea36b8ecc15d",
   "metadata": {},
   "outputs": [
    {
     "data": {
      "text/plain": [
       "'3.5.1'"
      ]
     },
     "execution_count": 9,
     "metadata": {},
     "output_type": "execute_result"
    }
   ],
   "source": [
    "import matplotlib\n",
    "matplotlib.__version__"
   ]
  },
  {
   "cell_type": "code",
   "execution_count": null,
   "id": "e0db8699-fb05-4f38-bec3-af3e43299ae8",
   "metadata": {},
   "outputs": [],
   "source": []
  }
 ],
 "metadata": {
  "kernelspec": {
   "display_name": "Python 3 (ipykernel)",
   "language": "python",
   "name": "python3"
  },
  "language_info": {
   "codemirror_mode": {
    "name": "ipython",
    "version": 3
   },
   "file_extension": ".py",
   "mimetype": "text/x-python",
   "name": "python",
   "nbconvert_exporter": "python",
   "pygments_lexer": "ipython3",
   "version": "3.8.11"
  }
 },
 "nbformat": 4,
 "nbformat_minor": 5
}
