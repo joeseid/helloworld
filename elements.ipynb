{
 "cells": [
  {
   "cell_type": "markdown",
   "id": "d53cbfc4-4be5-421d-b854-5d01b702d71c",
   "metadata": {},
   "source": [
    "## Variables and DataTypes\n",
    "\n",
    "In this section I cover defining variables in Python."
   ]
  },
  {
   "cell_type": "code",
   "execution_count": 8,
   "id": "962c6e75-5cee-4039-90e8-3603886aa073",
   "metadata": {},
   "outputs": [],
   "source": [
    "anInt = 2\n",
    "aFloat = 5.0\n",
    "aString = 'hello'\n",
    "aList = [1,2,3]\n",
    "aDict = {'joe': 5, 'wally': 2}"
   ]
  },
  {
   "cell_type": "code",
   "execution_count": 2,
   "id": "c7072d44-f69e-4aea-94d4-e756f1913354",
   "metadata": {},
   "outputs": [
    {
     "name": "stdout",
     "output_type": "stream",
     "text": [
      "2\n"
     ]
    }
   ],
   "source": [
    "print(anInt)"
   ]
  },
  {
   "cell_type": "code",
   "execution_count": 4,
   "id": "7e58db2f-5bf8-43da-8afa-82427573e6b3",
   "metadata": {},
   "outputs": [
    {
     "data": {
      "text/plain": [
       "float"
      ]
     },
     "execution_count": 4,
     "metadata": {},
     "output_type": "execute_result"
    }
   ],
   "source": [
    "type(aFloat)"
   ]
  },
  {
   "cell_type": "code",
   "execution_count": 5,
   "id": "a5d54b6c-f0a2-4880-9a56-752a34471c15",
   "metadata": {},
   "outputs": [
    {
     "data": {
      "text/plain": [
       "str"
      ]
     },
     "execution_count": 5,
     "metadata": {},
     "output_type": "execute_result"
    }
   ],
   "source": [
    "type(aString)"
   ]
  },
  {
   "cell_type": "markdown",
   "id": "ad846546-245d-4954-b61b-6c6eed346ff6",
   "metadata": {},
   "source": [
    "## Modules\n",
    "\n",
    "Here we use two built-in Python modules: os and math"
   ]
  },
  {
   "cell_type": "code",
   "execution_count": 13,
   "id": "d21a928b-0473-48b2-853b-a98c587f6eb5",
   "metadata": {},
   "outputs": [],
   "source": [
    "import math, os\n",
    "import math"
   ]
  },
  {
   "cell_type": "code",
   "execution_count": 14,
   "id": "c7e4acba-1184-4c4a-b0db-b6b4d09be32d",
   "metadata": {},
   "outputs": [
    {
     "name": "stdout",
     "output_type": "stream",
     "text": [
      "3.141592653589793\n"
     ]
    }
   ],
   "source": [
    "print(math.pi)"
   ]
  },
  {
   "cell_type": "code",
   "execution_count": 15,
   "id": "299f5c16-05b7-4e3d-92eb-2cb72baced7e",
   "metadata": {},
   "outputs": [],
   "source": [
    "import os"
   ]
  },
  {
   "cell_type": "code",
   "execution_count": 16,
   "id": "3d051b2c-6d3c-4455-85ea-7763e41f5b9e",
   "metadata": {},
   "outputs": [
    {
     "data": {
      "text/plain": [
       "'/Users/student/helloworld'"
      ]
     },
     "execution_count": 16,
     "metadata": {},
     "output_type": "execute_result"
    }
   ],
   "source": [
    "os.getcwd()"
   ]
  },
  {
   "cell_type": "markdown",
   "id": "38cbf1b4-e1a8-45e3-aea1-6946159f45b4",
   "metadata": {},
   "source": [
    "## Python as Calculator"
   ]
  },
  {
   "cell_type": "code",
   "execution_count": 17,
   "id": "1d2c3dc5-da99-4623-bdbb-45365f661c8e",
   "metadata": {},
   "outputs": [
    {
     "data": {
      "text/plain": [
       "4"
      ]
     },
     "execution_count": 17,
     "metadata": {},
     "output_type": "execute_result"
    }
   ],
   "source": [
    "2+2"
   ]
  },
  {
   "cell_type": "code",
   "execution_count": 18,
   "id": "5f9446ee-50f4-49d2-b008-88795f26d114",
   "metadata": {},
   "outputs": [
    {
     "data": {
      "text/plain": [
       "-6"
      ]
     },
     "execution_count": 18,
     "metadata": {},
     "output_type": "execute_result"
    }
   ],
   "source": [
    "83-89"
   ]
  },
  {
   "cell_type": "code",
   "execution_count": 19,
   "id": "df6b974f-a11d-44ea-8557-a48b69130bda",
   "metadata": {},
   "outputs": [
    {
     "name": "stdout",
     "output_type": "stream",
     "text": [
      "9\n"
     ]
    }
   ],
   "source": [
    "product = 3*3\n",
    "print(product)"
   ]
  },
  {
   "cell_type": "code",
   "execution_count": 20,
   "id": "7e6bcb92-11d2-47a5-a43d-a9af41387fe1",
   "metadata": {},
   "outputs": [
    {
     "data": {
      "text/plain": [
       "2.0"
      ]
     },
     "execution_count": 20,
     "metadata": {},
     "output_type": "execute_result"
    }
   ],
   "source": [
    "a = 50\n",
    "b = 25\n",
    "a/b"
   ]
  },
  {
   "cell_type": "code",
   "execution_count": 21,
   "id": "2670bcb9-e99a-4a50-9ff2-4c87fe8bbc50",
   "metadata": {},
   "outputs": [
    {
     "name": "stdout",
     "output_type": "stream",
     "text": [
      "2500\n"
     ]
    }
   ],
   "source": [
    "asquared = a**2\n",
    "print(asquared)"
   ]
  },
  {
   "cell_type": "markdown",
   "id": "65bf76e9-7b49-4cac-b65c-38ffd441c22c",
   "metadata": {},
   "source": [
    "## List\n",
    "\n",
    "A list is an ordered set of objects"
   ]
  },
  {
   "cell_type": "code",
   "execution_count": 59,
   "id": "81adaec9-c9a4-4194-9c6d-ab128632f29e",
   "metadata": {},
   "outputs": [],
   "source": [
    "ints = [1,2,3,4]\n",
    "reals = [1,2,3.5,4]\n",
    "strings = ['h', 'e', 'l', 'l', 'o']\n",
    "combo = [1, 'h', 2, 'l', 3]"
   ]
  },
  {
   "cell_type": "code",
   "execution_count": 46,
   "id": "92e0f191-240e-4f29-9ec0-d8df48003450",
   "metadata": {},
   "outputs": [
    {
     "name": "stdout",
     "output_type": "stream",
     "text": [
      "1\n",
      "4\n"
     ]
    }
   ],
   "source": [
    "print(ints[0])\n",
    "print(ints[3])"
   ]
  },
  {
   "cell_type": "code",
   "execution_count": 47,
   "id": "24239969-aed0-4b59-ad6e-e2cd24b5e8a0",
   "metadata": {},
   "outputs": [
    {
     "name": "stdout",
     "output_type": "stream",
     "text": [
      "4\n"
     ]
    }
   ],
   "source": [
    "print(ints[-1])"
   ]
  },
  {
   "cell_type": "code",
   "execution_count": 48,
   "id": "e7a0dce2-5fc8-4d68-a50a-34c6a4fa2338",
   "metadata": {},
   "outputs": [
    {
     "name": "stdout",
     "output_type": "stream",
     "text": [
      "[2, 3]\n",
      "[1, 2]\n",
      "[3, 4]\n"
     ]
    }
   ],
   "source": [
    "# splicing\n",
    "print(ints[1:3])\n",
    "print(ints[:2])\n",
    "print(ints[2:])"
   ]
  },
  {
   "cell_type": "code",
   "execution_count": 49,
   "id": "0b0e489d-6467-4ce4-bf4a-b1d9a184c4cc",
   "metadata": {},
   "outputs": [
    {
     "name": "stdout",
     "output_type": "stream",
     "text": [
      "[1, 2, 3, 4, 5]\n"
     ]
    }
   ],
   "source": [
    "ints.append(5)\n",
    "print(ints)"
   ]
  },
  {
   "cell_type": "code",
   "execution_count": 53,
   "id": "96276500-76f7-40e4-80c7-7deb17c28294",
   "metadata": {},
   "outputs": [
    {
     "name": "stdout",
     "output_type": "stream",
     "text": [
      "[1, 2, 3]\n"
     ]
    }
   ],
   "source": [
    "lastItem = ints.pop()\n",
    "print(ints)"
   ]
  },
  {
   "cell_type": "code",
   "execution_count": 54,
   "id": "e29a1249-d5b3-48c6-ad8a-e18fe317b0ad",
   "metadata": {},
   "outputs": [
    {
     "name": "stdout",
     "output_type": "stream",
     "text": [
      "4\n"
     ]
    }
   ],
   "source": [
    "print(lastItem)"
   ]
  },
  {
   "cell_type": "code",
   "execution_count": 60,
   "id": "163df60e-f49a-43e6-89b3-c04dc563e6e6",
   "metadata": {},
   "outputs": [
    {
     "name": "stdout",
     "output_type": "stream",
     "text": [
      "1\n",
      "2\n",
      "3\n",
      "4\n",
      "[1, 2, 3, 4]\n"
     ]
    }
   ],
   "source": [
    "for i in ints:\n",
    "    print(i)\n",
    "\n",
    "print(ints)"
   ]
  },
  {
   "cell_type": "markdown",
   "id": "87d9c577-76a0-4b32-bf87-b9135b8c6234",
   "metadata": {},
   "source": [
    "## Dictionaries\n",
    "\n",
    "Dictionaries are used in Python to store in key:value pairs."
   ]
  },
  {
   "cell_type": "code",
   "execution_count": 1,
   "id": "68840136-ebb3-4c8a-852d-111e24a7c5fc",
   "metadata": {},
   "outputs": [],
   "source": [
    "aDict = {'joe': 4, 'wally': 2}"
   ]
  },
  {
   "cell_type": "code",
   "execution_count": 2,
   "id": "d4e22adf-03ab-41d8-904c-c1aabf098ef3",
   "metadata": {},
   "outputs": [
    {
     "name": "stdout",
     "output_type": "stream",
     "text": [
      "{'joe': 4, 'wally': 2}\n"
     ]
    }
   ],
   "source": [
    "print(aDict)"
   ]
  },
  {
   "cell_type": "code",
   "execution_count": 3,
   "id": "8fd03b99-4914-4276-a8cb-b703daff0eb2",
   "metadata": {},
   "outputs": [
    {
     "name": "stdout",
     "output_type": "stream",
     "text": [
      "{'joe': 1, 'wally': 2}\n"
     ]
    }
   ],
   "source": [
    "aDict['joe'] = 1\n",
    "print(aDict)"
   ]
  },
  {
   "cell_type": "code",
   "execution_count": 5,
   "id": "985519dc-6ca1-498f-8b84-eade859ee682",
   "metadata": {},
   "outputs": [
    {
     "name": "stdout",
     "output_type": "stream",
     "text": [
      "2\n"
     ]
    }
   ],
   "source": [
    "print(aDict['wally'])"
   ]
  },
  {
   "cell_type": "code",
   "execution_count": 6,
   "id": "5f4ec2f0-fad0-4f2e-b8a8-a9e691bc53ca",
   "metadata": {},
   "outputs": [
    {
     "name": "stdout",
     "output_type": "stream",
     "text": [
      "{'joe': 1}\n"
     ]
    }
   ],
   "source": [
    "del aDict['wally']\n",
    "print(aDict)"
   ]
  },
  {
   "cell_type": "code",
   "execution_count": 7,
   "id": "8cae9c9a-6fef-4ee5-bbc8-8d8d44d3a78e",
   "metadata": {},
   "outputs": [
    {
     "name": "stdout",
     "output_type": "stream",
     "text": [
      "{'joe': 1, 'isla': 0}\n"
     ]
    }
   ],
   "source": [
    "aDict['isla'] = 0\n",
    "print(aDict)"
   ]
  },
  {
   "cell_type": "markdown",
   "id": "33665d88-947a-4fbf-ba30-f29a05ee1b85",
   "metadata": {},
   "source": [
    "## If staments\n",
    "\n",
    "We can use `if`  statements to control or decide which code will be executed."
   ]
  },
  {
   "cell_type": "code",
   "execution_count": 9,
   "id": "f4efcd86-758d-4453-ae4b-aa4e7d8c3c67",
   "metadata": {},
   "outputs": [
    {
     "name": "stdout",
     "output_type": "stream",
     "text": [
      "value is greater than 200\n"
     ]
    }
   ],
   "source": [
    "value = 400\n",
    "\n",
    "if value < 200:\n",
    "    print(\"value is less than 200\")\n",
    "else:\n",
    "    print(\"value is greater than 200\")\n"
   ]
  },
  {
   "cell_type": "markdown",
   "id": "494e3d21-bece-41de-8a1f-e315f775931e",
   "metadata": {},
   "source": [
    "### Comparison Operators\n",
    "\n",
    "Comparison opperators can be used to compare two values"
   ]
  },
  {
   "cell_type": "code",
   "execution_count": 14,
   "id": "22abf39a-cc90-4866-b5a4-6c4fb8abc79c",
   "metadata": {},
   "outputs": [
    {
     "name": "stdout",
     "output_type": "stream",
     "text": [
      "True\n"
     ]
    }
   ],
   "source": [
    "print(1 == 1)"
   ]
  },
  {
   "cell_type": "code",
   "execution_count": 11,
   "id": "c39bfae8-57ca-48fb-ab69-1dbb75ff3cf6",
   "metadata": {},
   "outputs": [
    {
     "name": "stdout",
     "output_type": "stream",
     "text": [
      "True\n"
     ]
    }
   ],
   "source": [
    "print(1 != 2)"
   ]
  },
  {
   "cell_type": "code",
   "execution_count": 12,
   "id": "6f326226-1b76-4fb7-ab66-10ccf705d6af",
   "metadata": {},
   "outputs": [
    {
     "name": "stdout",
     "output_type": "stream",
     "text": [
      "False\n",
      "False\n"
     ]
    },
    {
     "data": {
      "text/plain": [
       "bool"
      ]
     },
     "execution_count": 12,
     "metadata": {},
     "output_type": "execute_result"
    }
   ],
   "source": [
    "gt = 1 > 2\n",
    "gte = 1 >= 2\n",
    "print(gt)\n",
    "print(gte)\n",
    "type(gt)"
   ]
  },
  {
   "cell_type": "code",
   "execution_count": 13,
   "id": "0897a655-15a3-4b3a-9f6f-eaa582a4460c",
   "metadata": {},
   "outputs": [
    {
     "name": "stdout",
     "output_type": "stream",
     "text": [
      "True\n"
     ]
    }
   ],
   "source": [
    "print(gt == 0)"
   ]
  },
  {
   "cell_type": "code",
   "execution_count": null,
   "id": "960c8cdd-8781-4c29-b234-b98428420839",
   "metadata": {},
   "outputs": [],
   "source": [
    "lt = 1 < 2\n",
    "lte = 1 <= 2"
   ]
  },
  {
   "cell_type": "markdown",
   "id": "f6cef4a3-02ca-4c32-8d84-021c7458a45a",
   "metadata": {},
   "source": [
    "### Logical Operators\n",
    "\n",
    "Logical operators are used to combine conditional statements."
   ]
  },
  {
   "cell_type": "code",
   "execution_count": 15,
   "id": "6b209c21-ae50-45a6-a16f-1a26caff46d3",
   "metadata": {},
   "outputs": [
    {
     "name": "stdout",
     "output_type": "stream",
     "text": [
      "True\n"
     ]
    }
   ],
   "source": [
    "print(1 < 2 and 2 < 3)"
   ]
  },
  {
   "cell_type": "code",
   "execution_count": 16,
   "id": "54dc143a-79c8-482e-9f55-ec6dddfafe50",
   "metadata": {},
   "outputs": [
    {
     "name": "stdout",
     "output_type": "stream",
     "text": [
      "True\n"
     ]
    }
   ],
   "source": [
    "print(1 < 2 or 2 > 3)"
   ]
  },
  {
   "cell_type": "code",
   "execution_count": 17,
   "id": "5b914498-b5dd-4cdd-8a05-34fd45bd4277",
   "metadata": {},
   "outputs": [
    {
     "name": "stdout",
     "output_type": "stream",
     "text": [
      "True\n"
     ]
    }
   ],
   "source": [
    "print(not(1 > 2))"
   ]
  },
  {
   "cell_type": "markdown",
   "id": "bacbf3e2-87c6-4e8e-b292-c29c1723a372",
   "metadata": {},
   "source": [
    "## Custom Function/Methods"
   ]
  },
  {
   "cell_type": "code",
   "execution_count": 18,
   "id": "6c508df8-03f1-482f-82b3-59f66ddc8bb2",
   "metadata": {},
   "outputs": [],
   "source": [
    "def hello_world():\n",
    "    print(\"hello world\")\n",
    "    "
   ]
  },
  {
   "cell_type": "code",
   "execution_count": 19,
   "id": "cbff7179-7eb8-41cb-a5b8-c3184419f0db",
   "metadata": {},
   "outputs": [
    {
     "name": "stdout",
     "output_type": "stream",
     "text": [
      "hello world\n"
     ]
    }
   ],
   "source": [
    "hello_world()"
   ]
  },
  {
   "cell_type": "code",
   "execution_count": 26,
   "id": "52bf58a9-568d-44c4-818b-17fa96f18d40",
   "metadata": {},
   "outputs": [],
   "source": [
    "def bigger(a, b):\n",
    "    # this will return whicher value a or b is larger\n",
    "    if a > b:\n",
    "        result = a\n",
    "    else:\n",
    "        result = b\n",
    "    return result\n"
   ]
  },
  {
   "cell_type": "code",
   "execution_count": 22,
   "id": "be5cecff-c0c0-4f07-b810-0d90052bb32c",
   "metadata": {},
   "outputs": [
    {
     "name": "stdout",
     "output_type": "stream",
     "text": [
      "5\n"
     ]
    }
   ],
   "source": [
    "print(bigger(3, 5))"
   ]
  },
  {
   "cell_type": "code",
   "execution_count": 29,
   "id": "935b4cdb-b8ca-481a-8e1f-bb0801bc2c75",
   "metadata": {},
   "outputs": [
    {
     "name": "stdout",
     "output_type": "stream",
     "text": [
      "5\n",
      "None\n"
     ]
    }
   ],
   "source": [
    "result = bigger(4,5)\n",
    "print(result)"
   ]
  },
  {
   "cell_type": "markdown",
   "id": "32754e4e-68e7-4cd9-885a-401d0b1580a0",
   "metadata": {},
   "source": [
    "## Classses\n",
    "\n",
    "Classes allow us to create a new type of object that allow for added functionality."
   ]
  },
  {
   "cell_type": "code",
   "execution_count": 36,
   "id": "efb92f2d-49f2-4377-9754-6f463801e3b4",
   "metadata": {},
   "outputs": [],
   "source": [
    "class Agent:\n",
    "    \n",
    "    def __init__(self, u, e):\n",
    "        self.u = u\n",
    "        self.e = e\n",
    "    \n",
    "    def get_utility(self, x, y):\n",
    "        if self.u == 'linear':\n",
    "            result = x + y\n",
    "        if self.u == 'leontief':\n",
    "            result = min(x,y)\n",
    "        return result\n",
    "        \n",
    "    "
   ]
  },
  {
   "cell_type": "code",
   "execution_count": 37,
   "id": "077caab0-b1c3-4308-aa17-1d73e202aafa",
   "metadata": {},
   "outputs": [
    {
     "name": "stdout",
     "output_type": "stream",
     "text": [
      "linear 10\n"
     ]
    }
   ],
   "source": [
    "agent1 = Agent('linear', 10)\n",
    "print(agent1.u, agent1.e)"
   ]
  },
  {
   "cell_type": "code",
   "execution_count": 38,
   "id": "08f164fd-b35e-49e4-88ad-7440cd1b4f2e",
   "metadata": {},
   "outputs": [
    {
     "name": "stdout",
     "output_type": "stream",
     "text": [
      "leontief 20\n"
     ]
    }
   ],
   "source": [
    "agent2 = Agent('leontief', 20)\n",
    "print(agent2.u, agent2.e)"
   ]
  },
  {
   "cell_type": "code",
   "execution_count": 39,
   "id": "076850f1-cfea-4b9d-bd4b-5b8ee604f6cd",
   "metadata": {},
   "outputs": [
    {
     "data": {
      "text/plain": [
       "15"
      ]
     },
     "execution_count": 39,
     "metadata": {},
     "output_type": "execute_result"
    }
   ],
   "source": [
    "agent1.get_utility(5,10)"
   ]
  },
  {
   "cell_type": "code",
   "execution_count": 40,
   "id": "90a3fa6a-5a9c-481f-b79b-d4ffd29aa959",
   "metadata": {},
   "outputs": [
    {
     "data": {
      "text/plain": [
       "1"
      ]
     },
     "execution_count": 40,
     "metadata": {},
     "output_type": "execute_result"
    }
   ],
   "source": [
    "agent2.get_utility(100,1)"
   ]
  },
  {
   "cell_type": "markdown",
   "id": "f988740f-dde0-4282-bf0f-bc03495368b4",
   "metadata": {},
   "source": [
    "## Objects in Python"
   ]
  },
  {
   "cell_type": "code",
   "execution_count": 41,
   "id": "6ead5df1-2a41-4a57-b270-7e7971c71cd6",
   "metadata": {},
   "outputs": [],
   "source": [
    "alist = [1,2,3]"
   ]
  },
  {
   "cell_type": "code",
   "execution_count": 42,
   "id": "4e87f5c5-efce-4607-a7e4-81acab498068",
   "metadata": {},
   "outputs": [
    {
     "name": "stdout",
     "output_type": "stream",
     "text": [
      "[1, 2, 3, 4]\n"
     ]
    }
   ],
   "source": [
    "alist.append(4)\n",
    "print(alist)"
   ]
  },
  {
   "cell_type": "markdown",
   "id": "9e3be3df-8ae6-49ed-b434-4de8d90b21b5",
   "metadata": {},
   "source": [
    "### Strings"
   ]
  },
  {
   "cell_type": "code",
   "execution_count": 43,
   "id": "ca546708-625e-4422-885c-5573d1c52f62",
   "metadata": {},
   "outputs": [],
   "source": [
    "aString = \"hello$world\"\n",
    "# Hello, World!"
   ]
  },
  {
   "cell_type": "code",
   "execution_count": 44,
   "id": "a8f57d52-e322-4886-906a-cba5318e14e4",
   "metadata": {},
   "outputs": [
    {
     "name": "stdout",
     "output_type": "stream",
     "text": [
      "hello world\n"
     ]
    }
   ],
   "source": [
    "aString = aString.replace('$', ' ')\n",
    "print(aString)"
   ]
  },
  {
   "cell_type": "code",
   "execution_count": 45,
   "id": "94cc135b-80eb-4525-b6de-939ef4c9f8ae",
   "metadata": {},
   "outputs": [
    {
     "name": "stdout",
     "output_type": "stream",
     "text": [
      "Hello World\n"
     ]
    }
   ],
   "source": [
    "aString = aString.title()\n",
    "print(aString)"
   ]
  },
  {
   "cell_type": "code",
   "execution_count": 46,
   "id": "7a4ecca1-ac63-4fd2-af7c-b4f8ed6229b1",
   "metadata": {},
   "outputs": [
    {
     "name": "stdout",
     "output_type": "stream",
     "text": [
      "Hello World\n"
     ]
    }
   ],
   "source": [
    "hello, world = aString.split(' ')\n",
    "print(hello, world)"
   ]
  },
  {
   "cell_type": "code",
   "execution_count": 47,
   "id": "6aa4c93a-59ac-473b-b445-b95ceb03a1cb",
   "metadata": {},
   "outputs": [
    {
     "name": "stdout",
     "output_type": "stream",
     "text": [
      "Hello,\n"
     ]
    }
   ],
   "source": [
    "hello = hello + ','\n",
    "print(hello)"
   ]
  },
  {
   "cell_type": "code",
   "execution_count": 48,
   "id": "ed147bbf-6896-47cb-ae80-5c222f98dabb",
   "metadata": {},
   "outputs": [
    {
     "name": "stdout",
     "output_type": "stream",
     "text": [
      "Hello, World!\n"
     ]
    }
   ],
   "source": [
    "aString = hello + ' ' + world + '!'\n",
    "print(aString)"
   ]
  },
  {
   "cell_type": "code",
   "execution_count": null,
   "id": "91f12eee-d282-433c-abb1-ff8a853c23f0",
   "metadata": {},
   "outputs": [],
   "source": []
  }
 ],
 "metadata": {
  "kernelspec": {
   "display_name": "Python 3 (ipykernel)",
   "language": "python",
   "name": "python3"
  },
  "language_info": {
   "codemirror_mode": {
    "name": "ipython",
    "version": 3
   },
   "file_extension": ".py",
   "mimetype": "text/x-python",
   "name": "python",
   "nbconvert_exporter": "python",
   "pygments_lexer": "ipython3",
   "version": "3.8.11"
  }
 },
 "nbformat": 4,
 "nbformat_minor": 5
}
