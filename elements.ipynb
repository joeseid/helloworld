{
 "cells": [
  {
   "cell_type": "markdown",
   "id": "d53cbfc4-4be5-421d-b854-5d01b702d71c",
   "metadata": {},
   "source": [
    "## Variables and DataTypes\n",
    "\n",
    "In this section I cover defining variables in Python."
   ]
  },
  {
   "cell_type": "code",
   "execution_count": 8,
   "id": "962c6e75-5cee-4039-90e8-3603886aa073",
   "metadata": {},
   "outputs": [],
   "source": [
    "anInt = 2\n",
    "aFloat = 5.0\n",
    "aString = 'hello'\n",
    "aList = [1,2,3]\n",
    "aDict = {'joe': 5, 'wally': 2}"
   ]
  },
  {
   "cell_type": "code",
   "execution_count": 2,
   "id": "c7072d44-f69e-4aea-94d4-e756f1913354",
   "metadata": {},
   "outputs": [
    {
     "name": "stdout",
     "output_type": "stream",
     "text": [
      "2\n"
     ]
    }
   ],
   "source": [
    "print(anInt)"
   ]
  },
  {
   "cell_type": "code",
   "execution_count": 4,
   "id": "7e58db2f-5bf8-43da-8afa-82427573e6b3",
   "metadata": {},
   "outputs": [
    {
     "data": {
      "text/plain": [
       "float"
      ]
     },
     "execution_count": 4,
     "metadata": {},
     "output_type": "execute_result"
    }
   ],
   "source": [
    "type(aFloat)"
   ]
  },
  {
   "cell_type": "code",
   "execution_count": 5,
   "id": "a5d54b6c-f0a2-4880-9a56-752a34471c15",
   "metadata": {},
   "outputs": [
    {
     "data": {
      "text/plain": [
       "str"
      ]
     },
     "execution_count": 5,
     "metadata": {},
     "output_type": "execute_result"
    }
   ],
   "source": [
    "type(aString)"
   ]
  },
  {
   "cell_type": "markdown",
   "id": "ad846546-245d-4954-b61b-6c6eed346ff6",
   "metadata": {},
   "source": [
    "## Modules\n",
    "\n",
    "Here we use two built-in Python modules: os and math"
   ]
  },
  {
   "cell_type": "code",
   "execution_count": 13,
   "id": "d21a928b-0473-48b2-853b-a98c587f6eb5",
   "metadata": {},
   "outputs": [],
   "source": [
    "import math, os\n",
    "import math"
   ]
  },
  {
   "cell_type": "code",
   "execution_count": 14,
   "id": "c7e4acba-1184-4c4a-b0db-b6b4d09be32d",
   "metadata": {},
   "outputs": [
    {
     "name": "stdout",
     "output_type": "stream",
     "text": [
      "3.141592653589793\n"
     ]
    }
   ],
   "source": [
    "print(math.pi)"
   ]
  },
  {
   "cell_type": "code",
   "execution_count": 15,
   "id": "299f5c16-05b7-4e3d-92eb-2cb72baced7e",
   "metadata": {},
   "outputs": [],
   "source": [
    "import os"
   ]
  },
  {
   "cell_type": "code",
   "execution_count": 16,
   "id": "3d051b2c-6d3c-4455-85ea-7763e41f5b9e",
   "metadata": {},
   "outputs": [
    {
     "data": {
      "text/plain": [
       "'/Users/student/helloworld'"
      ]
     },
     "execution_count": 16,
     "metadata": {},
     "output_type": "execute_result"
    }
   ],
   "source": [
    "os.getcwd()"
   ]
  },
  {
   "cell_type": "markdown",
   "id": "38cbf1b4-e1a8-45e3-aea1-6946159f45b4",
   "metadata": {},
   "source": [
    "## Python as Calculator"
   ]
  },
  {
   "cell_type": "code",
   "execution_count": 17,
   "id": "1d2c3dc5-da99-4623-bdbb-45365f661c8e",
   "metadata": {},
   "outputs": [
    {
     "data": {
      "text/plain": [
       "4"
      ]
     },
     "execution_count": 17,
     "metadata": {},
     "output_type": "execute_result"
    }
   ],
   "source": [
    "2+2"
   ]
  },
  {
   "cell_type": "code",
   "execution_count": 18,
   "id": "5f9446ee-50f4-49d2-b008-88795f26d114",
   "metadata": {},
   "outputs": [
    {
     "data": {
      "text/plain": [
       "-6"
      ]
     },
     "execution_count": 18,
     "metadata": {},
     "output_type": "execute_result"
    }
   ],
   "source": [
    "83-89"
   ]
  },
  {
   "cell_type": "code",
   "execution_count": 19,
   "id": "df6b974f-a11d-44ea-8557-a48b69130bda",
   "metadata": {},
   "outputs": [
    {
     "name": "stdout",
     "output_type": "stream",
     "text": [
      "9\n"
     ]
    }
   ],
   "source": [
    "product = 3*3\n",
    "print(product)"
   ]
  },
  {
   "cell_type": "code",
   "execution_count": 20,
   "id": "7e6bcb92-11d2-47a5-a43d-a9af41387fe1",
   "metadata": {},
   "outputs": [
    {
     "data": {
      "text/plain": [
       "2.0"
      ]
     },
     "execution_count": 20,
     "metadata": {},
     "output_type": "execute_result"
    }
   ],
   "source": [
    "a = 50\n",
    "b = 25\n",
    "a/b"
   ]
  },
  {
   "cell_type": "code",
   "execution_count": 21,
   "id": "2670bcb9-e99a-4a50-9ff2-4c87fe8bbc50",
   "metadata": {},
   "outputs": [
    {
     "name": "stdout",
     "output_type": "stream",
     "text": [
      "2500\n"
     ]
    }
   ],
   "source": [
    "asquared = a**2\n",
    "print(asquared)"
   ]
  },
  {
   "cell_type": "markdown",
   "id": "65bf76e9-7b49-4cac-b65c-38ffd441c22c",
   "metadata": {},
   "source": [
    "## List\n",
    "\n",
    "A list is an ordered set of objects"
   ]
  },
  {
   "cell_type": "code",
   "execution_count": 59,
   "id": "81adaec9-c9a4-4194-9c6d-ab128632f29e",
   "metadata": {},
   "outputs": [],
   "source": [
    "ints = [1,2,3,4]\n",
    "reals = [1,2,3.5,4]\n",
    "strings = ['h', 'e', 'l', 'l', 'o']\n",
    "combo = [1, 'h', 2, 'l', 3]"
   ]
  },
  {
   "cell_type": "code",
   "execution_count": 46,
   "id": "92e0f191-240e-4f29-9ec0-d8df48003450",
   "metadata": {},
   "outputs": [
    {
     "name": "stdout",
     "output_type": "stream",
     "text": [
      "1\n",
      "4\n"
     ]
    }
   ],
   "source": [
    "print(ints[0])\n",
    "print(ints[3])"
   ]
  },
  {
   "cell_type": "code",
   "execution_count": 47,
   "id": "24239969-aed0-4b59-ad6e-e2cd24b5e8a0",
   "metadata": {},
   "outputs": [
    {
     "name": "stdout",
     "output_type": "stream",
     "text": [
      "4\n"
     ]
    }
   ],
   "source": [
    "print(ints[-1])"
   ]
  },
  {
   "cell_type": "code",
   "execution_count": 48,
   "id": "e7a0dce2-5fc8-4d68-a50a-34c6a4fa2338",
   "metadata": {},
   "outputs": [
    {
     "name": "stdout",
     "output_type": "stream",
     "text": [
      "[2, 3]\n",
      "[1, 2]\n",
      "[3, 4]\n"
     ]
    }
   ],
   "source": [
    "# splicing\n",
    "print(ints[1:3])\n",
    "print(ints[:2])\n",
    "print(ints[2:])"
   ]
  },
  {
   "cell_type": "code",
   "execution_count": 49,
   "id": "0b0e489d-6467-4ce4-bf4a-b1d9a184c4cc",
   "metadata": {},
   "outputs": [
    {
     "name": "stdout",
     "output_type": "stream",
     "text": [
      "[1, 2, 3, 4, 5]\n"
     ]
    }
   ],
   "source": [
    "ints.append(5)\n",
    "print(ints)"
   ]
  },
  {
   "cell_type": "code",
   "execution_count": 53,
   "id": "96276500-76f7-40e4-80c7-7deb17c28294",
   "metadata": {},
   "outputs": [
    {
     "name": "stdout",
     "output_type": "stream",
     "text": [
      "[1, 2, 3]\n"
     ]
    }
   ],
   "source": [
    "lastItem = ints.pop()\n",
    "print(ints)"
   ]
  },
  {
   "cell_type": "code",
   "execution_count": 54,
   "id": "e29a1249-d5b3-48c6-ad8a-e18fe317b0ad",
   "metadata": {},
   "outputs": [
    {
     "name": "stdout",
     "output_type": "stream",
     "text": [
      "4\n"
     ]
    }
   ],
   "source": [
    "print(lastItem)"
   ]
  },
  {
   "cell_type": "code",
   "execution_count": 60,
   "id": "163df60e-f49a-43e6-89b3-c04dc563e6e6",
   "metadata": {},
   "outputs": [
    {
     "name": "stdout",
     "output_type": "stream",
     "text": [
      "1\n",
      "2\n",
      "3\n",
      "4\n",
      "[1, 2, 3, 4]\n"
     ]
    }
   ],
   "source": [
    "for i in ints:\n",
    "    print(i)\n",
    "\n",
    "print(ints)"
   ]
  },
  {
   "cell_type": "code",
   "execution_count": null,
   "id": "1d4fcb95-31ac-4d36-8993-31081380184b",
   "metadata": {},
   "outputs": [],
   "source": []
  },
  {
   "cell_type": "code",
   "execution_count": null,
   "id": "68840136-ebb3-4c8a-852d-111e24a7c5fc",
   "metadata": {},
   "outputs": [],
   "source": []
  }
 ],
 "metadata": {
  "kernelspec": {
   "display_name": "Python 3 (ipykernel)",
   "language": "python",
   "name": "python3"
  },
  "language_info": {
   "codemirror_mode": {
    "name": "ipython",
    "version": 3
   },
   "file_extension": ".py",
   "mimetype": "text/x-python",
   "name": "python",
   "nbconvert_exporter": "python",
   "pygments_lexer": "ipython3",
   "version": "3.8.11"
  }
 },
 "nbformat": 4,
 "nbformat_minor": 5
}
